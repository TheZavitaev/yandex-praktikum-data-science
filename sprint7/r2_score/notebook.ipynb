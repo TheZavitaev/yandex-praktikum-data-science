{
 "cells": [
  {
   "cell_type": "markdown",
   "metadata": {},
   "source": [
    "# Максимизация R2\n",
    "\n",
    "Метрика R2 понятнее RMSE. Остановимся на коэффициенте детерминации и подберём лучшую модель. Чтобы решить задачу успешно, доведем метрику до `0.14`."
   ]
  },
  {
   "cell_type": "code",
   "execution_count": 1,
   "metadata": {},
   "outputs": [],
   "source": [
    "import pandas as pd\n",
    "\n",
    "from sklearn.model_selection import train_test_split\n",
    "from sklearn.linear_model import LinearRegression\n",
    "from sklearn.ensemble import RandomForestRegressor\n",
    "from sklearn.metrics import r2_score\n",
    "\n",
    "from joblib import dump"
   ]
  },
  {
   "cell_type": "code",
   "execution_count": 2,
   "metadata": {},
   "outputs": [],
   "source": [
    "data = pd.read_csv('flights_preprocessed.csv')\n",
    "\n",
    "RND_STATE = 12345\n",
    "\n",
    "target = data['Arrival Delay']\n",
    "features = data.drop(['Arrival Delay'] , axis=1)\n",
    "features_train, features_valid, target_train, target_valid = train_test_split(\n",
    "    features, target, test_size=0.25, random_state=RND_STATE)"
   ]
  },
  {
   "cell_type": "markdown",
   "metadata": {},
   "source": [
    "Вычислим значение R2 функцией `score()` у модели. Это по умолчанию метрика для моделей регрессии в sklearn."
   ]
  },
  {
   "cell_type": "code",
   "execution_count": 3,
   "metadata": {},
   "outputs": [
    {
     "data": {
      "text/plain": [
       "0.09710508979020725"
      ]
     },
     "execution_count": 3,
     "metadata": {},
     "output_type": "execute_result"
    }
   ],
   "source": [
    "model = LinearRegression()\n",
    "model.fit(features_train, target_train)\n",
    "model.score(features_valid, target_valid)"
   ]
  },
  {
   "cell_type": "markdown",
   "metadata": {},
   "source": [
    "Подберем подходящую глубину дерева сначала при небольшом числе деревьев. С их увеличением качество модели всегда растёт. Но увеличивается и время обучения."
   ]
  },
  {
   "cell_type": "code",
   "execution_count": 4,
   "metadata": {},
   "outputs": [
    {
     "name": "stdout",
     "output_type": "stream",
     "text": [
      "depth 1: 0.037285907526148354\n",
      "depth 2: 0.06819642209621124\n",
      "depth 3: 0.08789931366785175\n",
      "depth 4: 0.10419080408264147\n",
      "depth 5: 0.11727849049064364\n",
      "depth 6: 0.12888629498765314\n",
      "depth 7: 0.14013669309593169\n",
      "depth 8: 0.1501643078194318\n",
      "depth 9: 0.15565993165328307\n",
      "depth 10: 0.1574533216534546\n",
      "depth 11: 0.154639053609258\n",
      "depth 12: 0.15603402639125652\n",
      "depth 13: 0.1522420314465106\n",
      "depth 14: 0.146476463959043\n",
      "depth 15: 0.14439352500511204\n"
     ]
    }
   ],
   "source": [
    "for depth in range(1, 16, 1):\n",
    "    model = RandomForestRegressor(n_estimators=20, max_depth=depth, random_state=RND_STATE)\n",
    "    model.fit(features_train, target_train)\n",
    "    print(f\"depth {depth}: {model.score(features_valid, target_valid)}\")"
   ]
  },
  {
   "cell_type": "markdown",
   "metadata": {},
   "source": [
    "Теперь запустим обучение случайного леса с большим количеством деревьев:"
   ]
  },
  {
   "cell_type": "code",
   "execution_count": 15,
   "metadata": {},
   "outputs": [
    {
     "name": "stdout",
     "output_type": "stream",
     "text": [
      "train: 0.4447535263510586\n",
      "valid: 0.16178917671554938\n",
      "CPU times: user 18.5 s, sys: 91.6 ms, total: 18.6 s\n",
      "Wall time: 16.7 s\n"
     ]
    }
   ],
   "source": [
    "%%time\n",
    "\n",
    "model = RandomForestRegressor(n_estimators=100, max_depth=12, random_state=RND_STATE)\n",
    "model.fit(features_train, target_train)\n",
    "print(\"train:\", model.score(features_train, target_train))\n",
    "print(\"valid:\", model.score(features_valid, target_valid))"
   ]
  },
  {
   "cell_type": "code",
   "execution_count": 16,
   "metadata": {},
   "outputs": [
    {
     "data": {
      "text/plain": [
       "['model.joblib']"
      ]
     },
     "execution_count": 16,
     "metadata": {},
     "output_type": "execute_result"
    }
   ],
   "source": [
    "dump(model, 'model.joblib')"
   ]
  },
  {
   "cell_type": "code",
   "execution_count": null,
   "metadata": {},
   "outputs": [],
   "source": []
  }
 ],
 "metadata": {
  "kernelspec": {
   "display_name": "Python 3",
   "language": "python",
   "name": "python3"
  },
  "language_info": {
   "codemirror_mode": {
    "name": "ipython",
    "version": 3
   },
   "file_extension": ".py",
   "mimetype": "text/x-python",
   "name": "python",
   "nbconvert_exporter": "python",
   "pygments_lexer": "ipython3",
   "version": "3.7.4"
  }
 },
 "nbformat": 4,
 "nbformat_minor": 2
}
