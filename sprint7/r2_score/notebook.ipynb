{
 "cells": [
  {
   "cell_type": "markdown",
   "metadata": {},
   "source": [
    "# Максимизация R2\n",
    "\n",
    "Метрика R2 понятнее RMSE. Остановимся на коэффициенте детерминации и подберём лучшую модель. Чтобы решить задачу успешно, доведем метрику до `0.14`."
   ]
  },
  {
   "cell_type": "code",
   "execution_count": 2,
   "metadata": {},
   "outputs": [],
   "source": [
    "import pandas as pd\n",
    "\n",
    "from sklearn.model_selection import train_test_split\n",
    "from sklearn.linear_model import LinearRegression\n",
    "from sklearn.ensemble import RandomForestRegressor\n",
    "from sklearn.metrics import r2_score\n",
    "\n",
    "from joblib import dump"
   ]
  },
  {
   "cell_type": "code",
   "execution_count": 3,
   "metadata": {},
   "outputs": [],
   "source": [
    "data = pd.read_csv('flights_preprocessed.csv')\n",
    "\n",
    "RND_STATE = 12345\n",
    "\n",
    "target = data['Arrival Delay']\n",
    "features = data.drop(['Arrival Delay'] , axis=1)\n",
    "features_train, features_valid, target_train, target_valid = train_test_split(\n",
    "    features, target, test_size=0.25, random_state=RND_STATE)"
   ]
  },
  {
   "cell_type": "markdown",
   "metadata": {},
   "source": [
    "Вычислим значение R2 функцией `score()` у модели. Это по умолчанию метрика для моделей регрессии в sklearn."
   ]
  },
  {
   "cell_type": "code",
   "execution_count": 4,
   "metadata": {},
   "outputs": [
    {
     "data": {
      "text/plain": [
       "0.09710497146204988"
      ]
     },
     "execution_count": 4,
     "metadata": {},
     "output_type": "execute_result"
    }
   ],
   "source": [
    "model = LinearRegression()\n",
    "model.fit(features_train, target_train)\n",
    "model.score(features_valid, target_valid)"
   ]
  },
  {
   "cell_type": "markdown",
   "metadata": {},
   "source": [
    "Подберем подходящую глубину дерева сначала при небольшом числе деревьев. С их увеличением качество модели всегда растёт. Но увеличивается и время обучения."
   ]
  },
  {
   "cell_type": "code",
   "execution_count": 5,
   "metadata": {},
   "outputs": [
    {
     "name": "stdout",
     "output_type": "stream",
     "text": [
      "depth 1: 0.037285907526148354\n",
      "depth 2: 0.06819642209621124\n",
      "depth 3: 0.08784043439422196\n",
      "depth 4: 0.10410539417320942\n",
      "depth 5: 0.1170148926305088\n",
      "depth 6: 0.12812270304109197\n",
      "depth 7: 0.14023988572891255\n",
      "depth 8: 0.1509905046331984\n",
      "depth 9: 0.1561784744742989\n",
      "depth 10: 0.15937461353477067\n",
      "depth 11: 0.16165140416942136\n",
      "depth 12: 0.16050981198241898\n",
      "depth 13: 0.15524848318843387\n",
      "depth 14: 0.14612375630805674\n",
      "depth 15: 0.1419794076464067\n"
     ]
    }
   ],
   "source": [
    "for depth in range(1, 16, 1):\n",
    "    model = RandomForestRegressor(n_estimators=20, max_depth=depth, random_state=RND_STATE)\n",
    "    model.fit(features_train, target_train)\n",
    "    print(f\"depth {depth}: {model.score(features_valid, target_valid)}\")"
   ]
  },
  {
   "cell_type": "markdown",
   "metadata": {},
   "source": [
    "Теперь запустим обучение случайного леса с большим количеством деревьев:"
   ]
  },
  {
   "cell_type": "code",
   "execution_count": 6,
   "metadata": {},
   "outputs": [
    {
     "name": "stdout",
     "output_type": "stream",
     "text": [
      "train: 0.3784551354930391\n",
      "valid: 0.16447073084035702\n",
      "CPU times: user 9.29 s, sys: 13.1 ms, total: 9.3 s\n",
      "Wall time: 9.31 s\n"
     ]
    }
   ],
   "source": [
    "%%time\n",
    "\n",
    "model = RandomForestRegressor(n_estimators=100, max_depth=11, random_state=RND_STATE)\n",
    "model.fit(features_train, target_train)\n",
    "print(\"train:\", model.score(features_train, target_train))\n",
    "print(\"valid:\", model.score(features_valid, target_valid))"
   ]
  },
  {
   "cell_type": "code",
   "execution_count": 7,
   "metadata": {},
   "outputs": [
    {
     "data": {
      "text/plain": [
       "['model.joblib']"
      ]
     },
     "execution_count": 7,
     "metadata": {},
     "output_type": "execute_result"
    }
   ],
   "source": [
    "dump(model, 'model.joblib')"
   ]
  },
  {
   "cell_type": "code",
   "execution_count": null,
   "metadata": {},
   "outputs": [],
   "source": []
  }
 ],
 "metadata": {
  "kernelspec": {
   "display_name": "Python 3",
   "language": "python",
   "name": "python3"
  },
  "language_info": {
   "codemirror_mode": {
    "name": "ipython",
    "version": 3
   },
   "file_extension": ".py",
   "mimetype": "text/x-python",
   "name": "python",
   "nbconvert_exporter": "python",
   "pygments_lexer": "ipython3",
   "version": "3.7.5"
  }
 },
 "nbformat": 4,
 "nbformat_minor": 2
}
